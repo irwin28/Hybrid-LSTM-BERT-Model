{
 "cells": [
  {
   "cell_type": "code",
   "execution_count": 1,
   "id": "a192dce4",
   "metadata": {},
   "outputs": [
    {
     "name": "stdout",
     "output_type": "stream",
     "text": [
      "Merged file created successfully at: merged_file_BERT.csv\n",
      "Data saved successfully at: data_with_verify_BERT.csv\n",
      "Accuracy: 51.08%\n"
     ]
    }
   ],
   "source": [
    "import pandas as pd\n",
    "from datetime import timedelta\n",
    "\n",
    "def load_and_merge_data(source_file, destination_file, output_file):\n",
    "    source_df = pd.read_csv(source_file)\n",
    "    destination_df = pd.read_csv(destination_file)\n",
    "\n",
    "    source_df['Date'] = pd.to_datetime(source_df['Date'])\n",
    "    destination_df['Date'] = pd.to_datetime(destination_df['Date'])\n",
    "\n",
    "    time_difference = timedelta(weeks=1)\n",
    "    previous_actual_values = []\n",
    "\n",
    "    for index, row in destination_df.iterrows():\n",
    "        current_date = row['Date']\n",
    "        previous_date = current_date - time_difference\n",
    "\n",
    "        time_difference_row = destination_df[destination_df['Date'] == previous_date]\n",
    "\n",
    "        previous_actual_value = time_difference_row.iloc[0]['True Values'] if not time_difference_row.empty else None\n",
    "        previous_actual_values.append(previous_actual_value)\n",
    "\n",
    "    destination_df['Previous Actual Values'] = previous_actual_values\n",
    "    destination_df = pd.merge(destination_df, source_df[['Date', 'Sentiment']], on=\"Date\", how=\"left\")\n",
    "    destination_df.to_csv(output_file, index=False)\n",
    "    print(\"Merged file created successfully at:\", output_file)\n",
    "\n",
    "def preprocess_data(input_file, output_file):\n",
    "    data = pd.read_csv(input_file)\n",
    "    data = data.dropna(subset=['Sentiment'])\n",
    "    data.drop_duplicates(subset='Date', keep='first', inplace=True)\n",
    "    data.to_csv(output_file, index=False)\n",
    "    print(\"Data saved successfully at:\", output_file)\n",
    "\n",
    "def add_verify_column(df):\n",
    "    df['Date'] = pd.to_datetime(df['Date'])\n",
    "    df['Verify'] = \"\"\n",
    "    time_difference = timedelta(weeks=1)\n",
    "    mask = ~df['Previous Actual Values'].isnull()\n",
    "\n",
    "    for index, row in df[mask].iterrows():\n",
    "        current_date = row['Date']\n",
    "        previous_date = current_date - time_difference\n",
    "        time_difference_row = df[df['Date'] == previous_date]\n",
    "\n",
    "        if row['Sentiment'] == 'Positive':\n",
    "            df.at[index, 'Verify'] = 'Correct' if row['Predicted Values'] > row['Previous Actual Values'] else 'Wrong'\n",
    "        elif row['Sentiment'] == 'Negative':\n",
    "            df.at[index, 'Verify'] = 'Correct' if row['Predicted Values'] < row['Previous Actual Values'] else 'Wrong'\n",
    "        elif row['Sentiment'] == 'Neutral':\n",
    "            df.at[index, 'Verify'] = 'Correct' if abs(row['Predicted Values'] - row['Previous Actual Values']) < 0.1 else 'Wrong'\n",
    "\n",
    "    return df\n",
    "\n",
    "def calculate_accuracy(df):\n",
    "    correct_count = (df['Verify'] == 'Correct').sum()\n",
    "    wrong_count = (df['Verify'] == 'Wrong').sum()\n",
    "    total_count = correct_count + wrong_count\n",
    "    accuracy = (correct_count / total_count) * 100 if total_count != 0 else 0\n",
    "    return accuracy\n",
    "\n",
    "# Usage:\n",
    "source_file_path = \"classified_titles.csv\"\n",
    "destination_file_path = \"predicted_values_with_dates.csv\"\n",
    "merged_file_path = \"merged_file_BERT.csv\"\n",
    "verify_file_path = \"data_with_verify_BERT.csv\"\n",
    "\n",
    "load_and_merge_data(source_file_path, destination_file_path, merged_file_path)\n",
    "preprocess_data(merged_file_path, verify_file_path)\n",
    "\n",
    "data = pd.read_csv(verify_file_path)\n",
    "data = add_verify_column(data)\n",
    "data = data.dropna(subset=['Sentiment'])\n",
    "\n",
    "accuracy = calculate_accuracy(data)\n",
    "print(f\"Accuracy: {accuracy:.2f}%\")"
   ]
  },
  {
   "cell_type": "code",
   "execution_count": null,
   "id": "93d10be2",
   "metadata": {},
   "outputs": [],
   "source": []
  }
 ],
 "metadata": {
  "kernelspec": {
   "display_name": "e1",
   "language": "python",
   "name": "e1"
  },
  "language_info": {
   "codemirror_mode": {
    "name": "ipython",
    "version": 3
   },
   "file_extension": ".py",
   "mimetype": "text/x-python",
   "name": "python",
   "nbconvert_exporter": "python",
   "pygments_lexer": "ipython3",
   "version": "3.10.11"
  }
 },
 "nbformat": 4,
 "nbformat_minor": 5
}
